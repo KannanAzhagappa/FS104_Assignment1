{
 "cells": [
  {
   "cell_type": "markdown",
   "metadata": {},
   "source": [
    "# Exercise"
   ]
  },
  {
   "cell_type": "markdown",
   "metadata": {},
   "source": [
    "## Question 1"
   ]
  },
  {
   "cell_type": "code",
   "execution_count": 7,
   "metadata": {},
   "outputs": [
    {
     "output_type": "stream",
     "name": "stdout",
     "text": [
      "Type of the variable 'string' is :  <class 'str'>\nConverted to  variable 'number_float' :  12.34\nType of the converted variable 'number_float' is :  <class 'float'>\n"
     ]
    }
   ],
   "source": [
    "string = '12.34'\n",
    "\n",
    "print(\"Type of the variable 'string' is : \",type(string))\n",
    "number_float = float(string)\n",
    "print(\"Converted to  variable 'number_float' : \",number_float)\n",
    "print(\"Type of the converted variable 'number_float' is : \",type(number_float))"
   ]
  },
  {
   "cell_type": "markdown",
   "metadata": {},
   "source": [
    "**Use *float()* to create a number from a string like '12.34'. Make sure the result is really a number!**"
   ]
  },
  {
   "cell_type": "markdown",
   "metadata": {},
   "source": [
    "## Question 2"
   ]
  },
  {
   "cell_type": "markdown",
   "metadata": {},
   "source": [
    "**Try using *int()* to create an integer from a decimal number like $56.78$. Did the answer get rounded up or down?**"
   ]
  },
  {
   "cell_type": "code",
   "execution_count": 22,
   "metadata": {},
   "outputs": [
    {
     "output_type": "stream",
     "name": "stdout",
     "text": [
      "Decimal number is  56.78\nInteger number is  56\nType of the converted variable is  <class 'int'>\n"
     ]
    }
   ],
   "source": [
    "number = 56.78\n",
    "\n",
    "print(\"Decimal number is \",number)\n",
    "number_int = int(number)\n",
    "print(\"Integer number is \",number_int)\n",
    "print(\"Type of the converted variable is \",type(number_int))\n",
    "\n",
    "## It will be rounded down"
   ]
  },
  {
   "cell_type": "markdown",
   "metadata": {},
   "source": [
    "## Question 3"
   ]
  },
  {
   "cell_type": "markdown",
   "metadata": {},
   "source": [
    "**Try using *int()* to create an integer from a string. Make sure the result is really an integer!**"
   ]
  },
  {
   "cell_type": "code",
   "execution_count": 23,
   "metadata": {},
   "outputs": [
    {
     "output_type": "stream",
     "name": "stdout",
     "text": [
      "String number is  12\nInteger number is  12\nType of the Integer number is  <class 'int'>\n"
     ]
    }
   ],
   "source": [
    "string = \"12\"\r\n",
    "\r\n",
    "print(\"String number is \",string)\r\n",
    "number_integer = int(string)\r\n",
    "print(\"Integer number is \",number_integer)\r\n",
    "print(\"Type of the Integer number is \",type(number_integer))"
   ]
  },
  {
   "source": [
    "## Question 4"
   ],
   "cell_type": "markdown",
   "metadata": {}
  },
  {
   "cell_type": "markdown",
   "metadata": {},
   "source": [
    "**Which of the following are valid string literals in Python.**\n",
    "\n",
    "**(a) \"Hello\"<br> (b) 'hello'<br> (c) \"Hello'<br> (d) 'Hello there'<br> (e) ''**"
   ]
  },
  {
   "cell_type": "code",
   "execution_count": 20,
   "metadata": {},
   "outputs": [
    {
     "output_type": "stream",
     "name": "stdout",
     "text": [
      "<class 'str'>\n<class 'str'>\n<class 'str'>\n<class 'str'>\n"
     ]
    }
   ],
   "source": [
    "# All of them are valid literals of string in Python except for Option C - \"Hello' as it contains a syntax error.\n",
    "\n",
    "string1 = \"Hello\"\n",
    "string2 = 'hello'\n",
    "string4 = 'Hello there'\n",
    "string5 = ''\n",
    "\n",
    "print(type(string1))\n",
    "print(type(string2))\n",
    "print(type(string4))\n",
    "print(type(string5))"
   ]
  },
  {
   "cell_type": "code",
   "execution_count": 21,
   "metadata": {},
   "outputs": [
    {
     "output_type": "error",
     "ename": "SyntaxError",
     "evalue": "EOL while scanning string literal (<ipython-input-21-157d5eb5c379>, line 1)",
     "traceback": [
      "\u001b[1;36m  File \u001b[1;32m\"<ipython-input-21-157d5eb5c379>\"\u001b[1;36m, line \u001b[1;32m1\u001b[0m\n\u001b[1;33m    string3 = \"Hello'\u001b[0m\n\u001b[1;37m                     ^\u001b[0m\n\u001b[1;31mSyntaxError\u001b[0m\u001b[1;31m:\u001b[0m EOL while scanning string literal\n"
     ]
    }
   ],
   "source": [
    "string3 = \"Hello'"
   ]
  }
 ],
 "metadata": {
  "kernelspec": {
   "name": "python3",
   "display_name": "Python 3.7.2 64-bit",
   "metadata": {
    "interpreter": {
     "hash": "8fc596f3a09f0ea550a4ac5e6f3b2e8b40f5a6ae9ff777757e619aee608e583c"
    }
   }
  },
  "language_info": {
   "codemirror_mode": {
    "name": "ipython",
    "version": 3
   },
   "file_extension": ".py",
   "mimetype": "text/x-python",
   "name": "python",
   "nbconvert_exporter": "python",
   "pygments_lexer": "ipython3",
   "version": "3.7.2-final"
  }
 },
 "nbformat": 4,
 "nbformat_minor": 2
}